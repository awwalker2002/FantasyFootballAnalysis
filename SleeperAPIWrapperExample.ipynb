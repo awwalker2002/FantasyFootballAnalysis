{
  "nbformat": 4,
  "nbformat_minor": 0,
  "metadata": {
    "colab": {
      "provenance": []
    },
    "kernelspec": {
      "name": "python3",
      "display_name": "Python 3"
    },
    "language_info": {
      "name": "python"
    }
  },
  "cells": [
    {
      "cell_type": "code",
      "execution_count": null,
      "metadata": {
        "id": "bx_tu8txsXvv"
      },
      "outputs": [],
      "source": [
        "%pip install sleeper-api-wrapper"
      ]
    },
    {
      "cell_type": "markdown",
      "source": [
        "###Get User Info"
      ],
      "metadata": {
        "id": "8qWujvVMukpx"
      }
    },
    {
      "cell_type": "code",
      "source": [
        "from sleeper_wrapper import User\n",
        "\n",
        "user = User(\"ianw44\")\n",
        "\n",
        "# get all the user's leagues for the 2023 NFL season\n",
        "user_leagues = user.get_all_leagues(sport=\"nfl\", season=2023)\n",
        "\n",
        "# get all the user's drafts for the 2023 NFL season\n",
        "user_drafts = user.get_all_drafts(sport=\"nfl\", season=2023)"
      ],
      "metadata": {
        "id": "rMZ0I30VtE40"
      },
      "execution_count": 2,
      "outputs": []
    },
    {
      "cell_type": "code",
      "source": [
        "user_leagues"
      ],
      "metadata": {
        "colab": {
          "base_uri": "https://localhost:8080/"
        },
        "id": "YfOml5tntOi4",
        "outputId": "2b69eced-2b84-4037-c999-15ff2351eb48"
      },
      "execution_count": 3,
      "outputs": [
        {
          "output_type": "execute_result",
          "data": {
            "text/plain": [
              "[{'last_transaction_id': 1013171961767337984,\n",
              "  'total_rosters': 10,\n",
              "  'loser_bracket_id': None,\n",
              "  'bracket_id': None,\n",
              "  'group_id': None,\n",
              "  'roster_positions': ['QB',\n",
              "   'RB',\n",
              "   'RB',\n",
              "   'WR',\n",
              "   'WR',\n",
              "   'TE',\n",
              "   'FLEX',\n",
              "   'K',\n",
              "   'DEF',\n",
              "   'BN',\n",
              "   'BN',\n",
              "   'BN',\n",
              "   'BN',\n",
              "   'BN',\n",
              "   'BN'],\n",
              "  'previous_league_id': '896545769522536448',\n",
              "  'league_id': '961734984736247808',\n",
              "  'last_read_id': '1020347776506351616',\n",
              "  'draft_id': '961734984736247809',\n",
              "  'last_pinned_message_id': None,\n",
              "  'last_message_time': 1698338883258,\n",
              "  'last_message_text_map': None,\n",
              "  'last_message_attachment': None,\n",
              "  'last_author_is_bot': True,\n",
              "  'last_author_id': '166666666666666666',\n",
              "  'last_author_display_name': 'sys',\n",
              "  'last_author_avatar': None,\n",
              "  'display_order': 0,\n",
              "  'last_message_id': '1023311081193689088',\n",
              "  'scoring_settings': {'st_ff': 1.0,\n",
              "   'pts_allow_7_13': 4.0,\n",
              "   'def_st_ff': 1.0,\n",
              "   'rec_yd': 0.1,\n",
              "   'fum_rec_td': 6.0,\n",
              "   'pts_allow_35p': -4.0,\n",
              "   'pts_allow_28_34': -1.0,\n",
              "   'fum': 0.0,\n",
              "   'rush_yd': 0.1,\n",
              "   'pass_td': 4.0,\n",
              "   'blk_kick': 2.0,\n",
              "   'pass_yd': 0.04,\n",
              "   'safe': 2.0,\n",
              "   'def_td': 6.0,\n",
              "   'fgm_50p': 5.0,\n",
              "   'def_st_td': 6.0,\n",
              "   'fum_rec': 2.0,\n",
              "   'rush_2pt': 2.0,\n",
              "   'xpm': 1.0,\n",
              "   'pts_allow_21_27': 0.0,\n",
              "   'fgm_20_29': 3.0,\n",
              "   'pts_allow_1_6': 7.0,\n",
              "   'fum_lost': -2.0,\n",
              "   'def_st_fum_rec': 1.0,\n",
              "   'int': 2.0,\n",
              "   'fgm_0_19': 3.0,\n",
              "   'pts_allow_14_20': 1.0,\n",
              "   'rec': 1.0,\n",
              "   'ff': 1.0,\n",
              "   'fgmiss': -1.0,\n",
              "   'st_fum_rec': 1.0,\n",
              "   'rec_2pt': 2.0,\n",
              "   'rush_td': 6.0,\n",
              "   'xpmiss': -1.0,\n",
              "   'fgm_30_39': 3.0,\n",
              "   'rec_td': 6.0,\n",
              "   'st_td': 6.0,\n",
              "   'pass_2pt': 2.0,\n",
              "   'pts_allow_0': 10.0,\n",
              "   'pass_int': -1.0,\n",
              "   'fgm_40_49': 4.0,\n",
              "   'sack': 1.0},\n",
              "  'sport': 'nfl',\n",
              "  'season_type': 'regular',\n",
              "  'season': '2023',\n",
              "  'shard': 712,\n",
              "  'avatar': '8ae99ad850f03ab010a81e014dbd6446',\n",
              "  'company_id': None,\n",
              "  'settings': {'daily_waivers_last_ran': 26,\n",
              "   'reserve_allow_cov': 0,\n",
              "   'reserve_slots': 1,\n",
              "   'leg': 8,\n",
              "   'offseason_adds': 0,\n",
              "   'bench_lock': 0,\n",
              "   'trade_review_days': 2,\n",
              "   'league_average_match': 1,\n",
              "   'waiver_type': 2,\n",
              "   'max_keepers': 1,\n",
              "   'type': 0,\n",
              "   'pick_trading': 1,\n",
              "   'disable_trades': 0,\n",
              "   'daily_waivers': 0,\n",
              "   'taxi_years': 2,\n",
              "   'trade_deadline': 12,\n",
              "   'veto_show_votes': 0,\n",
              "   'reserve_allow_sus': 1,\n",
              "   'reserve_allow_out': 0,\n",
              "   'playoff_round_type': 2,\n",
              "   'waiver_day_of_week': 2,\n",
              "   'taxi_allow_vets': 0,\n",
              "   'reserve_allow_dnr': 1,\n",
              "   'veto_auto_poll': 1,\n",
              "   'commissioner_direct_invite': 0,\n",
              "   'reserve_allow_doubtful': 0,\n",
              "   'waiver_clear_days': 2,\n",
              "   'playoff_week_start': 14,\n",
              "   'daily_waivers_days': 5461,\n",
              "   'last_scored_leg': 7,\n",
              "   'taxi_slots': 5,\n",
              "   'playoff_type': 0,\n",
              "   'daily_waivers_hour': 0,\n",
              "   'num_teams': 10,\n",
              "   'veto_votes_needed': 6,\n",
              "   'playoff_teams': 4,\n",
              "   'playoff_seed_type': 0,\n",
              "   'start_week': 1,\n",
              "   'reserve_allow_na': 0,\n",
              "   'draft_rounds': 3,\n",
              "   'taxi_deadline': 4,\n",
              "   'waiver_bid_min': 0,\n",
              "   'capacity_override': 0,\n",
              "   'disable_adds': 0,\n",
              "   'waiver_budget': 100,\n",
              "   'last_report': 7,\n",
              "   'best_ball': 0},\n",
              "  'metadata': {'keeper_deadline': '0', 'auto_continue': 'on'},\n",
              "  'status': 'in_season',\n",
              "  'name': 'VT not Dynasty'},\n",
              " {'last_transaction_id': None,\n",
              "  'total_rosters': 8,\n",
              "  'loser_bracket_id': None,\n",
              "  'bracket_id': None,\n",
              "  'group_id': None,\n",
              "  'roster_positions': ['QB',\n",
              "   'RB',\n",
              "   'RB',\n",
              "   'WR',\n",
              "   'WR',\n",
              "   'WR',\n",
              "   'TE',\n",
              "   'FLEX',\n",
              "   'FLEX',\n",
              "   'FLEX',\n",
              "   'SUPER_FLEX',\n",
              "   'BN',\n",
              "   'BN',\n",
              "   'BN',\n",
              "   'BN',\n",
              "   'BN',\n",
              "   'BN',\n",
              "   'BN',\n",
              "   'BN',\n",
              "   'BN',\n",
              "   'BN',\n",
              "   'BN',\n",
              "   'BN',\n",
              "   'BN',\n",
              "   'BN',\n",
              "   'BN',\n",
              "   'BN'],\n",
              "  'previous_league_id': '863548106535493632',\n",
              "  'league_id': '949893540920766464',\n",
              "  'last_read_id': '1020393973174587392',\n",
              "  'draft_id': '949893540920766465',\n",
              "  'last_pinned_message_id': None,\n",
              "  'last_message_time': 1698238267391,\n",
              "  'last_message_text_map': None,\n",
              "  'last_message_attachment': None,\n",
              "  'last_author_is_bot': True,\n",
              "  'last_author_id': '166666666666666666',\n",
              "  'last_author_display_name': 'sys',\n",
              "  'last_author_avatar': None,\n",
              "  'display_order': 0,\n",
              "  'last_message_id': '1022889067660271617',\n",
              "  'scoring_settings': {'st_ff': 1.0,\n",
              "   'pts_allow_7_13': 4.0,\n",
              "   'def_st_ff': 1.0,\n",
              "   'rec_yd': 0.1,\n",
              "   'fum_rec_td': 6.0,\n",
              "   'pts_allow_35p': -4.0,\n",
              "   'pts_allow_28_34': -1.0,\n",
              "   'fum': 0.0,\n",
              "   'rush_yd': 0.1,\n",
              "   'pass_td': 4.0,\n",
              "   'blk_kick': 2.0,\n",
              "   'pass_yd': 0.04,\n",
              "   'safe': 2.0,\n",
              "   'def_td': 6.0,\n",
              "   'fgm_50p': 5.0,\n",
              "   'def_st_td': 6.0,\n",
              "   'fum_rec': 2.0,\n",
              "   'rush_2pt': 2.0,\n",
              "   'xpm': 1.0,\n",
              "   'pts_allow_21_27': 0.0,\n",
              "   'fgm_20_29': 3.0,\n",
              "   'pts_allow_1_6': 7.0,\n",
              "   'fum_lost': -2.0,\n",
              "   'def_st_fum_rec': 1.0,\n",
              "   'int': 2.0,\n",
              "   'fgm_0_19': 3.0,\n",
              "   'pts_allow_14_20': 1.0,\n",
              "   'rec': 1.0,\n",
              "   'ff': 1.0,\n",
              "   'fgmiss': -1.0,\n",
              "   'st_fum_rec': 1.0,\n",
              "   'rec_2pt': 2.0,\n",
              "   'rush_td': 6.0,\n",
              "   'xpmiss': -1.0,\n",
              "   'fgm_30_39': 3.0,\n",
              "   'rec_td': 6.0,\n",
              "   'st_td': 6.0,\n",
              "   'pass_2pt': 2.0,\n",
              "   'pts_allow_0': 10.0,\n",
              "   'pass_int': -1.0,\n",
              "   'fgm_40_49': 4.0,\n",
              "   'sack': 1.0},\n",
              "  'sport': 'nfl',\n",
              "  'season_type': 'regular',\n",
              "  'season': '2023',\n",
              "  'shard': 890,\n",
              "  'avatar': None,\n",
              "  'company_id': None,\n",
              "  'settings': {'daily_waivers_last_ran': 13,\n",
              "   'reserve_allow_cov': 1,\n",
              "   'reserve_slots': 3,\n",
              "   'leg': 8,\n",
              "   'offseason_adds': 0,\n",
              "   'bench_lock': 1,\n",
              "   'trade_review_days': 2,\n",
              "   'league_average_match': 1,\n",
              "   'waiver_type': 2,\n",
              "   'max_keepers': 1,\n",
              "   'type': 2,\n",
              "   'pick_trading': 1,\n",
              "   'disable_trades': 0,\n",
              "   'daily_waivers': 0,\n",
              "   'taxi_years': 0,\n",
              "   'trade_deadline': 11,\n",
              "   'veto_show_votes': 0,\n",
              "   'reserve_allow_sus': 1,\n",
              "   'reserve_allow_out': 0,\n",
              "   'playoff_round_type': 0,\n",
              "   'waiver_day_of_week': 2,\n",
              "   'taxi_allow_vets': 0,\n",
              "   'reserve_allow_dnr': 0,\n",
              "   'veto_auto_poll': 0,\n",
              "   'commissioner_direct_invite': 0,\n",
              "   'reserve_allow_doubtful': 0,\n",
              "   'waiver_clear_days': 1,\n",
              "   'playoff_week_start': 15,\n",
              "   'daily_waivers_days': 5461,\n",
              "   'last_scored_leg': 7,\n",
              "   'taxi_slots': 0,\n",
              "   'playoff_type': 0,\n",
              "   'daily_waivers_hour': 0,\n",
              "   'num_teams': 8,\n",
              "   'veto_votes_needed': 4,\n",
              "   'playoff_teams': 6,\n",
              "   'playoff_seed_type': 1,\n",
              "   'start_week': 1,\n",
              "   'reserve_allow_na': 0,\n",
              "   'draft_rounds': 4,\n",
              "   'taxi_deadline': 0,\n",
              "   'capacity_override': 0,\n",
              "   'disable_adds': 0,\n",
              "   'waiver_budget': 1000,\n",
              "   'last_report': 7,\n",
              "   'best_ball': 0},\n",
              "  'metadata': {'latest_league_winner_roster_id': '5',\n",
              "   'keeper_deadline': '0',\n",
              "   'auto_continue': 'on'},\n",
              "  'status': 'in_season',\n",
              "  'name': 'Kilodep'}]"
            ]
          },
          "metadata": {},
          "execution_count": 3
        }
      ]
    },
    {
      "cell_type": "markdown",
      "source": [
        "###Get League Standings and Rosters From User Info"
      ],
      "metadata": {
        "id": "RB5JiAYvupbE"
      }
    },
    {
      "cell_type": "code",
      "source": [
        "from sleeper_wrapper import League\n",
        "\n",
        "league_id = user_leagues[0]['league_id']\n",
        "\n",
        "# creates the league object\n",
        "league = League(league_id)\n",
        "\n",
        "# get rosters\n",
        "rosters = league.get_rosters()\n",
        "\n",
        "# get users\n",
        "users = league.get_users()\n",
        "\n",
        "# get league standings\n",
        "standings = league.get_standings(rosters=rosters, users=users)"
      ],
      "metadata": {
        "id": "SjwOvORZtQL-"
      },
      "execution_count": 7,
      "outputs": []
    },
    {
      "cell_type": "code",
      "source": [
        "standings"
      ],
      "metadata": {
        "colab": {
          "base_uri": "https://localhost:8080/"
        },
        "id": "moH8bo_HuA-v",
        "outputId": "646732b5-7f37-4add-aee2-056c5592b8b8"
      },
      "execution_count": 8,
      "outputs": [
        {
          "output_type": "execute_result",
          "data": {
            "text/plain": [
              "[('Tua Infinity and Beyond', '11', '3', '904'),\n",
              " ('Jadonance', '10', '4', '926'),\n",
              " ('nickvolpe', '10', '4', '872'),\n",
              " ('fayble', '9', '5', '893'),\n",
              " ('itskaeo', '9', '5', '857'),\n",
              " ('Meyar', '6', '8', '915'),\n",
              " ('bwo is witerawy gwiddying', '6', '8', '792'),\n",
              " ('Glacier88', '4', '10', '701'),\n",
              " ('IanW44', '3', '11', '809'),\n",
              " ('astroRL', '2', '12', '726')]"
            ]
          },
          "metadata": {},
          "execution_count": 8
        }
      ]
    },
    {
      "cell_type": "code",
      "source": [
        "rosters"
      ],
      "metadata": {
        "id": "5S9RbyIPwB_N"
      },
      "execution_count": null,
      "outputs": []
    },
    {
      "cell_type": "markdown",
      "source": [
        "###Get Draft Info"
      ],
      "metadata": {
        "id": "De3D-sEHutT9"
      }
    },
    {
      "cell_type": "code",
      "source": [
        "from sleeper_wrapper import Drafts\n",
        "\n",
        "drafts = Drafts(draft_id=user_leagues[0]['draft_id'])\n",
        "my_draft = drafts.get_specific_draft()\n",
        "all_picks = drafts.get_all_picks()"
      ],
      "metadata": {
        "id": "9QRGmaDeuGrd"
      },
      "execution_count": 9,
      "outputs": []
    },
    {
      "cell_type": "code",
      "source": [
        "all_picks"
      ],
      "metadata": {
        "id": "BlPUO98jvBKI"
      },
      "execution_count": null,
      "outputs": []
    }
  ]
}